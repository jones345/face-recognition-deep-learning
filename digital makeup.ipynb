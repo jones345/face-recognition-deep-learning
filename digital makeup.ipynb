{
 "cells": [
  {
   "cell_type": "code",
   "execution_count": 1,
   "id": "b22a4f92",
   "metadata": {},
   "outputs": [],
   "source": [
    "from PIL import Image, ImageDraw\n",
    "import face_recognition"
   ]
  },
  {
   "cell_type": "code",
   "execution_count": 2,
   "id": "b5ce53b8",
   "metadata": {},
   "outputs": [],
   "source": [
    "# Load the images into a numpy array\n",
    "image = face_recognition.load_image_file(\"people.jpg\")"
   ]
  },
  {
   "cell_type": "code",
   "execution_count": 3,
   "id": "cd6c2d10",
   "metadata": {},
   "outputs": [],
   "source": [
    "# Find all facial features in all the faces in the image\n",
    "face_landmarks_list = face_recognition.face_landmarks(image)"
   ]
  },
  {
   "cell_type": "code",
   "execution_count": 4,
   "id": "dda3a0a3",
   "metadata": {},
   "outputs": [],
   "source": [
    "# Load the image into a Python Image Library object so that we can draw on top of it and display it\n",
    "pil_image = Image.fromarray(image)"
   ]
  },
  {
   "cell_type": "code",
   "execution_count": 5,
   "id": "756cc4d6",
   "metadata": {},
   "outputs": [],
   "source": [
    "# Create a PIL drawing object to be able to draw lines later\n",
    "d = ImageDraw.Draw(pil_image, 'RGBA')"
   ]
  },
  {
   "cell_type": "code",
   "execution_count": 6,
   "id": "9c0ff3b2",
   "metadata": {},
   "outputs": [],
   "source": [
    "for face_landmarks in face_landmarks_list:\n",
    "    # The face landmark detection model returns these features:\n",
    "    #  - chin, left_eyebrow, right_eyebrow, nose_bridge, nose_tip, left_eye, right_eye, top_lip, bottom_lip\n",
    "\n",
    "    # Draw a line over the eyebrows\n",
    "    d.line(face_landmarks['left_eyebrow'], fill=(128, 0, 128, 100), width=3)\n",
    "    d.line(face_landmarks['right_eyebrow'], fill=(128, 0, 128, 100), width=3)\n",
    "\n",
    "    # Draw over the lips\n",
    "    d.polygon(face_landmarks['top_lip'], fill=(128, 0, 128, 100))\n",
    "    d.polygon(face_landmarks['bottom_lip'], fill=(128, 0, 128, 100))\n",
    "\n",
    "# Show the final image\n",
    "pil_image.show()"
   ]
  },
  {
   "cell_type": "code",
   "execution_count": null,
   "id": "4275be62",
   "metadata": {},
   "outputs": [],
   "source": []
  }
 ],
 "metadata": {
  "kernelspec": {
   "display_name": "Python 3.9.4 64-bit",
   "language": "python",
   "name": "python394jvsc74a57bd0916dbcbb3f70747c44a77c7bcd40155683ae19c65e1c03b4aa3499c5328201f1"
  },
  "language_info": {
   "codemirror_mode": {
    "name": "ipython",
    "version": 3
   },
   "file_extension": ".py",
   "mimetype": "text/x-python",
   "name": "python",
   "nbconvert_exporter": "python",
   "pygments_lexer": "ipython3",
   "version": "3.9.5"
  }
 },
 "nbformat": 4,
 "nbformat_minor": 5
}
